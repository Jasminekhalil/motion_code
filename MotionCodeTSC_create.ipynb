{
 "cells": [
  {
   "cell_type": "code",
   "execution_count": 4,
   "metadata": {},
   "outputs": [
    {
     "name": "stdout",
     "output_type": "stream",
     "text": [
      "The autoreload extension is already loaded. To reload it, use:\n",
      "  %reload_ext autoreload\n"
     ]
    }
   ],
   "source": [
    "%load_ext autoreload\n",
    "%autoreload 2"
   ]
  },
  {
   "cell_type": "code",
   "execution_count": 5,
   "metadata": {},
   "outputs": [],
   "source": [
    "import os\n",
    "from data_processing import get_train_test_data_classify\n",
    "import numpy as np\n",
    "\n",
    "def save_data_to_tsfile(filename, X, y, problem_name):\n",
    "    \"\"\"Saves univariate time series data in .ts format for sktime\"\"\"\n",
    "    n_samples, n_timestamps = X.shape  \n",
    "\n",
    "    with open(filename, \"w\") as f:\n",
    "        f.write(f\"@problemName {problem_name}\\n\")\n",
    "        f.write(\"@timeStamps false\\n\")\n",
    "        f.write(\"@univariate true\\n\")\n",
    "        f.write(\"@classLabel true \" + \" \".join(map(str, np.unique(y))) + \"\\n\")\n",
    "        f.write(\"@data\\n\")\n",
    "\n",
    "        for i in range(n_samples):\n",
    "            series_str = \",\".join(map(str, X[i]))\n",
    "            f.write(f\"{series_str}:{y[i]}\\n\")\n",
    "\n",
    "def get_tsfile(in_name, out_name):\n",
    "    benchmark_data, _ = get_train_test_data_classify(in_name, load_existing_data=True)\n",
    "    Y_train, labels_train, Y_test, labels_test = benchmark_data\n",
    "    if len(Y_train.shape) == 3:\n",
    "        Y_train = Y_train.reshape(Y_train.shape[0], Y_train.shape[-1])\n",
    "        Y_test = Y_test.reshape(Y_test.shape[0], Y_test.shape[-1])\n",
    "    print(Y_train.shape, labels_train.shape, Y_test.shape, labels_test.shape)\n",
    "\n",
    "    # Save train and test sets\n",
    "    folder_path = \"TSLibrary/dataset/MotionCodeTSC/\" + out_name\n",
    "    if not os.path.exists(folder_path):\n",
    "        os.makedirs(folder_path)\n",
    "    prefix_ts = folder_path + \"/\" + out_name\n",
    "    save_data_to_tsfile(prefix_ts + \"_TRAIN.ts\", Y_train, labels_train, problem_name=in_name)\n",
    "    save_data_to_tsfile(prefix_ts + \"_TEST.ts\", Y_test, labels_test, problem_name=in_name)"
   ]
  },
  {
   "cell_type": "code",
   "execution_count": 6,
   "metadata": {},
   "outputs": [
    {
     "name": "stdout",
     "output_type": "stream",
     "text": [
      "(20, 1600) (20,) (322, 1600) (322,)\n",
      "Finished PD setting 1\n",
      "(24, 1600) (24,) (429, 1600) (429,)\n",
      "Finished PD setting 2\n",
      "(16, 100) (16,) (16, 100) (16,)\n",
      "Finished Pronunciation Audio\n",
      "(23, 136) (23,) (861, 136) (861,)\n",
      "Finished ECGFiveDays\n",
      "(28, 301) (28,) (2850, 301) (2850,)\n",
      "Finished FreezerSmallTrain\n",
      "(40, 2000) (40,) (119, 2000) (119,)\n",
      "Finished HouseTwenty\n",
      "(62, 601) (62,) (249, 601) (249,)\n",
      "Finished InsectEPGRegularTrain\n",
      "(67, 24) (67,) (1029, 24) (1029,)\n",
      "Finished ItalyPowerDemand\n",
      "(70, 319) (70,) (73, 319) (73,)\n",
      "Finished Lightning7\n",
      "(20, 84) (20,) (1252, 84) (1252,)\n",
      "Finished MoteStrain\n",
      "(180, 144) (180,) (180, 144) (180,)\n",
      "Finished PowerCons\n",
      "(27, 65) (27,) (953, 65) (953,)\n",
      "Finished SonyAIBORobotSurface2\n",
      "(896, 945) (896,) (3582, 945) (3582,)\n",
      "Finished UWaveGestureLibraryAll\n"
     ]
    }
   ],
   "source": [
    "in_names = ['PD setting 1', 'PD setting 2', 'Pronunciation Audio', 'ECGFiveDays',\n",
    "            'FreezerSmallTrain', 'HouseTwenty', 'InsectEPGRegularTrain',\n",
    "            'ItalyPowerDemand', 'Lightning7', 'MoteStrain', 'PowerCons', 'SonyAIBORobotSurface2', 'UWaveGestureLibraryAll']\n",
    "out_names = ['PDSetting1', 'PDSetting2', 'PronunciationAudio', 'ECGFiveDays',\n",
    "             'FreezerSmallTrain', 'HouseTwenty', 'InsectEPGRegularTrain',\n",
    "             'ItalyPowerDemand', 'Lightning7', 'MoteStrain', 'PowerCons', 'SonyAIBORobotSurface2', 'UWaveGestureLibraryAll']\n",
    "\n",
    "\n",
    "for in_name, out_name in zip(in_names, out_names):\n",
    "    get_tsfile(in_name, out_name)\n",
    "    print(f\"Finished {in_name}\")"
   ]
  },
  {
   "cell_type": "code",
   "execution_count": null,
   "metadata": {},
   "outputs": [],
   "source": []
  }
 ],
 "metadata": {
  "kernelspec": {
   "display_name": "basics",
   "language": "python",
   "name": "python3"
  },
  "language_info": {
   "codemirror_mode": {
    "name": "ipython",
    "version": 3
   },
   "file_extension": ".py",
   "mimetype": "text/x-python",
   "name": "python",
   "nbconvert_exporter": "python",
   "pygments_lexer": "ipython3",
   "version": "3.12.3"
  }
 },
 "nbformat": 4,
 "nbformat_minor": 2
}
